{
 "cells": [
  {
   "cell_type": "markdown",
   "metadata": {},
   "source": [
    "# Weather Analysis for Edinburgh and New York "
   ]
  },
  {
   "cell_type": "markdown",
   "metadata": {},
   "source": [
    "## Import libraries and csv containing dataset"
   ]
  },
  {
   "cell_type": "code",
   "execution_count": 1,
   "metadata": {},
   "outputs": [
    {
     "name": "stdout",
     "output_type": "stream",
     "text": [
      "<class 'pandas.core.frame.DataFrame'>\n"
     ]
    }
   ],
   "source": [
    "# Import packages\n",
    "import pandas as pd\n",
    "import matplotlib.pyplot as plt\n",
    "from datetime import datetime, time, date\n",
    "import time\n",
    "\n",
    "# Import csv\n",
    "edinburgh_raw = pd.read_csv('./data/IEDINBUR6_weather.csv')\n",
    "print(type(edinburgh_raw))"
   ]
  },
  {
   "cell_type": "code",
   "execution_count": 2,
   "metadata": {},
   "outputs": [
    {
     "data": {
      "text/html": [
       "<div>\n",
       "<style scoped>\n",
       "    .dataframe tbody tr th:only-of-type {\n",
       "        vertical-align: middle;\n",
       "    }\n",
       "\n",
       "    .dataframe tbody tr th {\n",
       "        vertical-align: top;\n",
       "    }\n",
       "\n",
       "    .dataframe thead th {\n",
       "        text-align: right;\n",
       "    }\n",
       "</style>\n",
       "<table border=\"1\" class=\"dataframe\">\n",
       "  <thead>\n",
       "    <tr style=\"text-align: right;\">\n",
       "      <th></th>\n",
       "      <th>Unnamed: 0</th>\n",
       "      <th>Time</th>\n",
       "      <th>TemperatureC</th>\n",
       "      <th>DewpointC</th>\n",
       "      <th>PressurehPa</th>\n",
       "      <th>WindDirection</th>\n",
       "      <th>WindDirectionDegrees</th>\n",
       "      <th>WindSpeedKMH</th>\n",
       "      <th>WindSpeedGustKMH</th>\n",
       "      <th>Humidity</th>\n",
       "      <th>HourlyPrecipMM</th>\n",
       "      <th>Conditions</th>\n",
       "      <th>Clouds</th>\n",
       "      <th>dailyrainMM</th>\n",
       "      <th>SolarRadiationWatts/m^2</th>\n",
       "      <th>SoftwareType</th>\n",
       "      <th>DateUTC</th>\n",
       "      <th>station</th>\n",
       "    </tr>\n",
       "  </thead>\n",
       "  <tbody>\n",
       "    <tr>\n",
       "      <th>0</th>\n",
       "      <td>0</td>\n",
       "      <td>2015-01-01 00:00:00</td>\n",
       "      <td>10.3</td>\n",
       "      <td>4.5</td>\n",
       "      <td>1001.9</td>\n",
       "      <td>SW</td>\n",
       "      <td>236</td>\n",
       "      <td>9.0</td>\n",
       "      <td>11.9</td>\n",
       "      <td>67</td>\n",
       "      <td>0.0</td>\n",
       "      <td>NaN</td>\n",
       "      <td>NaN</td>\n",
       "      <td>0.0</td>\n",
       "      <td>0.0</td>\n",
       "      <td>HP1001 V1.1.3</td>\n",
       "      <td>2015-01-01 00:00:00</td>\n",
       "      <td>IEDINBUR6</td>\n",
       "    </tr>\n",
       "    <tr>\n",
       "      <th>1</th>\n",
       "      <td>1</td>\n",
       "      <td>2015-01-01 00:06:00</td>\n",
       "      <td>10.2</td>\n",
       "      <td>4.4</td>\n",
       "      <td>1001.9</td>\n",
       "      <td>SW</td>\n",
       "      <td>226</td>\n",
       "      <td>6.9</td>\n",
       "      <td>7.9</td>\n",
       "      <td>67</td>\n",
       "      <td>0.0</td>\n",
       "      <td>NaN</td>\n",
       "      <td>NaN</td>\n",
       "      <td>0.0</td>\n",
       "      <td>0.0</td>\n",
       "      <td>HP1001 V1.1.3</td>\n",
       "      <td>2015-01-01 00:06:00</td>\n",
       "      <td>IEDINBUR6</td>\n",
       "    </tr>\n",
       "    <tr>\n",
       "      <th>2</th>\n",
       "      <td>2</td>\n",
       "      <td>2015-01-01 00:11:00</td>\n",
       "      <td>10.2</td>\n",
       "      <td>4.4</td>\n",
       "      <td>1001.9</td>\n",
       "      <td>SSW</td>\n",
       "      <td>202</td>\n",
       "      <td>7.2</td>\n",
       "      <td>15.8</td>\n",
       "      <td>67</td>\n",
       "      <td>0.0</td>\n",
       "      <td>NaN</td>\n",
       "      <td>NaN</td>\n",
       "      <td>0.0</td>\n",
       "      <td>0.0</td>\n",
       "      <td>HP1001 V1.1.3</td>\n",
       "      <td>2015-01-01 00:11:00</td>\n",
       "      <td>IEDINBUR6</td>\n",
       "    </tr>\n",
       "    <tr>\n",
       "      <th>3</th>\n",
       "      <td>3</td>\n",
       "      <td>2015-01-01 00:16:00</td>\n",
       "      <td>10.2</td>\n",
       "      <td>4.4</td>\n",
       "      <td>1001.9</td>\n",
       "      <td>SSW</td>\n",
       "      <td>202</td>\n",
       "      <td>7.9</td>\n",
       "      <td>11.9</td>\n",
       "      <td>67</td>\n",
       "      <td>0.0</td>\n",
       "      <td>NaN</td>\n",
       "      <td>NaN</td>\n",
       "      <td>0.0</td>\n",
       "      <td>0.0</td>\n",
       "      <td>HP1001 V1.1.3</td>\n",
       "      <td>2015-01-01 00:16:00</td>\n",
       "      <td>IEDINBUR6</td>\n",
       "    </tr>\n",
       "    <tr>\n",
       "      <th>4</th>\n",
       "      <td>4</td>\n",
       "      <td>2015-01-01 00:21:00</td>\n",
       "      <td>10.2</td>\n",
       "      <td>4.6</td>\n",
       "      <td>1002.3</td>\n",
       "      <td>South</td>\n",
       "      <td>174</td>\n",
       "      <td>4.3</td>\n",
       "      <td>7.9</td>\n",
       "      <td>68</td>\n",
       "      <td>0.0</td>\n",
       "      <td>NaN</td>\n",
       "      <td>NaN</td>\n",
       "      <td>0.0</td>\n",
       "      <td>0.0</td>\n",
       "      <td>HP1001 V1.1.3</td>\n",
       "      <td>2015-01-01 00:21:00</td>\n",
       "      <td>IEDINBUR6</td>\n",
       "    </tr>\n",
       "  </tbody>\n",
       "</table>\n",
       "</div>"
      ],
      "text/plain": [
       "   Unnamed: 0                 Time  TemperatureC  DewpointC  PressurehPa  \\\n",
       "0           0  2015-01-01 00:00:00          10.3        4.5       1001.9   \n",
       "1           1  2015-01-01 00:06:00          10.2        4.4       1001.9   \n",
       "2           2  2015-01-01 00:11:00          10.2        4.4       1001.9   \n",
       "3           3  2015-01-01 00:16:00          10.2        4.4       1001.9   \n",
       "4           4  2015-01-01 00:21:00          10.2        4.6       1002.3   \n",
       "\n",
       "  WindDirection  WindDirectionDegrees  WindSpeedKMH  WindSpeedGustKMH  \\\n",
       "0            SW                   236           9.0              11.9   \n",
       "1            SW                   226           6.9               7.9   \n",
       "2           SSW                   202           7.2              15.8   \n",
       "3           SSW                   202           7.9              11.9   \n",
       "4         South                   174           4.3               7.9   \n",
       "\n",
       "   Humidity  HourlyPrecipMM  Conditions  Clouds  dailyrainMM  \\\n",
       "0        67             0.0         NaN     NaN          0.0   \n",
       "1        67             0.0         NaN     NaN          0.0   \n",
       "2        67             0.0         NaN     NaN          0.0   \n",
       "3        67             0.0         NaN     NaN          0.0   \n",
       "4        68             0.0         NaN     NaN          0.0   \n",
       "\n",
       "   SolarRadiationWatts/m^2   SoftwareType              DateUTC    station  \n",
       "0                      0.0  HP1001 V1.1.3  2015-01-01 00:00:00  IEDINBUR6  \n",
       "1                      0.0  HP1001 V1.1.3  2015-01-01 00:06:00  IEDINBUR6  \n",
       "2                      0.0  HP1001 V1.1.3  2015-01-01 00:11:00  IEDINBUR6  \n",
       "3                      0.0  HP1001 V1.1.3  2015-01-01 00:16:00  IEDINBUR6  \n",
       "4                      0.0  HP1001 V1.1.3  2015-01-01 00:21:00  IEDINBUR6  "
      ]
     },
     "execution_count": 2,
     "metadata": {},
     "output_type": "execute_result"
    }
   ],
   "source": [
    "# View first few rows of the dataset\n",
    "edinburgh_raw.head()"
   ]
  },
  {
   "cell_type": "markdown",
   "metadata": {},
   "source": [
    "## Extract temperature data\n",
    "\n",
    "Rename the temp and date columns, then extract only those columns and save to a new data frame"
   ]
  },
  {
   "cell_type": "code",
   "execution_count": 3,
   "metadata": {},
   "outputs": [],
   "source": [
    "# Rename temp and date column and convert temp to float, and date to datetime64\n",
    "edinburgh_raw['temp'] = edinburgh_raw['TemperatureC'].astype(float)\n",
    "edinburgh_raw['date'] = pd.to_datetime(edinburgh_raw['DateUTC'])\n",
    "\n",
    "\n",
    "# Extract only date and temperature data\n",
    "edinburgh_data = edinburgh_raw.loc[:,['date', 'temp']]"
   ]
  },
  {
   "cell_type": "code",
   "execution_count": 4,
   "metadata": {},
   "outputs": [
    {
     "data": {
      "text/html": [
       "<div>\n",
       "<style scoped>\n",
       "    .dataframe tbody tr th:only-of-type {\n",
       "        vertical-align: middle;\n",
       "    }\n",
       "\n",
       "    .dataframe tbody tr th {\n",
       "        vertical-align: top;\n",
       "    }\n",
       "\n",
       "    .dataframe thead th {\n",
       "        text-align: right;\n",
       "    }\n",
       "</style>\n",
       "<table border=\"1\" class=\"dataframe\">\n",
       "  <thead>\n",
       "    <tr style=\"text-align: right;\">\n",
       "      <th></th>\n",
       "      <th>date</th>\n",
       "      <th>temp</th>\n",
       "    </tr>\n",
       "  </thead>\n",
       "  <tbody>\n",
       "    <tr>\n",
       "      <th>0</th>\n",
       "      <td>2015-01-01 00:00:00</td>\n",
       "      <td>10.3</td>\n",
       "    </tr>\n",
       "    <tr>\n",
       "      <th>1</th>\n",
       "      <td>2015-01-01 00:06:00</td>\n",
       "      <td>10.2</td>\n",
       "    </tr>\n",
       "    <tr>\n",
       "      <th>2</th>\n",
       "      <td>2015-01-01 00:11:00</td>\n",
       "      <td>10.2</td>\n",
       "    </tr>\n",
       "    <tr>\n",
       "      <th>3</th>\n",
       "      <td>2015-01-01 00:16:00</td>\n",
       "      <td>10.2</td>\n",
       "    </tr>\n",
       "    <tr>\n",
       "      <th>4</th>\n",
       "      <td>2015-01-01 00:21:00</td>\n",
       "      <td>10.2</td>\n",
       "    </tr>\n",
       "  </tbody>\n",
       "</table>\n",
       "</div>"
      ],
      "text/plain": [
       "                 date  temp\n",
       "0 2015-01-01 00:00:00  10.3\n",
       "1 2015-01-01 00:06:00  10.2\n",
       "2 2015-01-01 00:11:00  10.2\n",
       "3 2015-01-01 00:16:00  10.2\n",
       "4 2015-01-01 00:21:00  10.2"
      ]
     },
     "execution_count": 4,
     "metadata": {},
     "output_type": "execute_result"
    }
   ],
   "source": [
    "# View the segment of the data set we've selected\n",
    "edinburgh_data.head()"
   ]
  },
  {
   "cell_type": "markdown",
   "metadata": {},
   "source": [
    "## Calculate daily averages\n",
    "\n",
    "For rows that share the same date, calculate the average temp of each group. Create a new dataframe with avg_daily_temp"
   ]
  },
  {
   "cell_type": "code",
   "execution_count": 5,
   "metadata": {
    "scrolled": true
   },
   "outputs": [
    {
     "data": {
      "image/png": "[encoded data removed]",
      "text/plain": [
       "<Figure size 432x288 with 1 Axes>"
      ]
     },
     "metadata": {
      "needs_background": "light"
     },
     "output_type": "display_data"
    }
   ],
   "source": [
    "# Use .describe() to get an idea of what's in the dataset\n",
    "edinburgh_data.describe()\n",
    "\n",
    "# Strip time from date column\n",
    "edinburgh_data['date'] = edinburgh_data['date'].apply(lambda edinburgh_data : \n",
    "datetime(year=edinburgh_data.year, month=edinburgh_data.month, day=edinburgh_data.day))\n",
    "\n",
    "# Group by day, calculate mean of each day\n",
    "edi_group = edinburgh_data.groupby('date').agg({'temp': 'mean'})\n",
    "\n",
    "# Plot the grouped data\n",
    "plt.plot(edi_group)\n",
    "plt.show()"
   ]
  },
  {
   "cell_type": "markdown",
   "metadata": {},
   "source": [
    "## Removing outliers\n",
    "\n",
    "The weather in Edinburgh shouldn't be getting below -20C ever...let's filter this dataset a bit"
   ]
  },
  {
   "cell_type": "code",
   "execution_count": null,
   "metadata": {},
   "outputs": [],
   "source": []
  },
  {
   "cell_type": "markdown",
   "metadata": {},
   "source": [
    "# Next steps\n",
    " Clean up the dataset, convert tempC to tempF, plot vs time"
   ]
  },
  {
   "cell_type": "code",
   "execution_count": null,
   "metadata": {},
   "outputs": [],
   "source": []
  }
 ],
 "metadata": {
  "file_extension": ".py",
  "kernelspec": {
   "display_name": "Python 3",
   "language": "python",
   "name": "python3"
  },
  "language_info": {
   "codemirror_mode": {
    "name": "ipython",
    "version": 3
   },
   "file_extension": ".py",
   "mimetype": "text/x-python",
   "name": "python",
   "nbconvert_exporter": "python",
   "pygments_lexer": "ipython3",
   "version": "3.7.2"
  },
  "mimetype": "text/x-python",
  "name": "python",
  "npconvert_exporter": "python",
  "pygments_lexer": "ipython3",
  "version": 3,
  "widgets": {
   "application/vnd.jupyter.widget-state+json": {
    "state": {},
    "version_major": 2,
    "version_minor": 0
   }
  }
 },
 "nbformat": 4,
 "nbformat_minor": 2
}
